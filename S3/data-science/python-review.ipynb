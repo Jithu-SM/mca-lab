{
  "cells": [
    {
      "cell_type": "markdown",
      "id": "f3ef7e7b-0af7-420e-bb30-53f1d09a99b2",
      "metadata": {
        "id": "f3ef7e7b-0af7-420e-bb30-53f1d09a99b2"
      },
      "source": [
        "1. Start by creating variables of various numeric data types and assigning them values."
      ]
    },
    {
      "cell_type": "code",
      "execution_count": 2,
      "id": "63bee28c-3698-40c5-af92-85b8b6655229",
      "metadata": {
        "id": "63bee28c-3698-40c5-af92-85b8b6655229"
      },
      "outputs": [],
      "source": [
        "a=10\n",
        "b=10.5\n",
        "c=3+4j"
      ]
    },
    {
      "cell_type": "markdown",
      "id": "2817a2d2-f77f-4958-8d9c-e6562fefb7aa",
      "metadata": {
        "id": "2817a2d2-f77f-4958-8d9c-e6562fefb7aa"
      },
      "source": [
        "2. Print the data types and values of these variables."
      ]
    },
    {
      "cell_type": "code",
      "execution_count": 3,
      "id": "57b1edcb-312c-455f-94ef-c571dbfa51af",
      "metadata": {
        "colab": {
          "base_uri": "https://localhost:8080/"
        },
        "id": "57b1edcb-312c-455f-94ef-c571dbfa51af",
        "outputId": "d3675745-eac1-48de-e335-bc81328010f0"
      },
      "outputs": [
        {
          "output_type": "stream",
          "name": "stdout",
          "text": [
            "<class 'int'> 10 <class 'float'> 10.5 <class 'complex'> (3+4j)\n"
          ]
        }
      ],
      "source": [
        "print(type(a),a,type(b),b,type(c),c)"
      ]
    },
    {
      "cell_type": "markdown",
      "source": [
        "3. Perform mathematical operations on these variables."
      ],
      "metadata": {
        "id": "SYfDHDEJzTYT"
      },
      "id": "SYfDHDEJzTYT"
    },
    {
      "cell_type": "code",
      "metadata": {
        "colab": {
          "base_uri": "https://localhost:8080/"
        },
        "id": "2a7add49",
        "outputId": "d1315a6d-59ac-4847-f865-61ed14868558"
      },
      "source": [
        "sum_ab = a + b\n",
        "diff_bc = b - c\n",
        "prod_ac = a * c\n",
        "div_ab = a / b\n",
        "\n",
        "print(f\"Sum of a and b: {sum_ab}\")\n",
        "print(f\"Difference of b and c: {diff_bc}\")\n",
        "print(f\"Product of a and c: {prod_ac}\")\n",
        "print(f\"Division of a by b: {div_ab}\")"
      ],
      "id": "2a7add49",
      "execution_count": 4,
      "outputs": [
        {
          "output_type": "stream",
          "name": "stdout",
          "text": [
            "Sum of a and b: 20.5\n",
            "Difference of b and c: (7.5-4j)\n",
            "Product of a and c: (30+40j)\n",
            "Division of a by b: 0.9523809523809523\n"
          ]
        }
      ]
    },
    {
      "cell_type": "markdown",
      "source": [
        "4. Update the values of these variables."
      ],
      "metadata": {
        "id": "n3xufykp0UEM"
      },
      "id": "n3xufykp0UEM"
    },
    {
      "cell_type": "code",
      "source": [
        "a = 20\n",
        "b = 25.5\n",
        "c = 5 + 6j"
      ],
      "metadata": {
        "id": "yPPXlKWd1tLC"
      },
      "id": "yPPXlKWd1tLC",
      "execution_count": 5,
      "outputs": []
    },
    {
      "cell_type": "markdown",
      "source": [
        "5. Create boolean variables with True or False values.\n"
      ],
      "metadata": {
        "id": "KRjpStEz2Ku7"
      },
      "id": "KRjpStEz2Ku7"
    },
    {
      "cell_type": "code",
      "source": [
        "is_true = True\n",
        "is_false = False"
      ],
      "metadata": {
        "id": "Oo5qRmyr2KSY"
      },
      "id": "Oo5qRmyr2KSY",
      "execution_count": 6,
      "outputs": []
    },
    {
      "cell_type": "markdown",
      "source": [
        "6. Print the data types of these boolean variables."
      ],
      "metadata": {
        "id": "trE-RT_32gIL"
      },
      "id": "trE-RT_32gIL"
    },
    {
      "cell_type": "code",
      "source": [
        "print(type(is_true))\n",
        "print(type(is_false))"
      ],
      "metadata": {
        "colab": {
          "base_uri": "https://localhost:8080/"
        },
        "id": "QaDFtfR83v7V",
        "outputId": "9a6f8231-328e-427a-ac66-a265931b3b9f"
      },
      "id": "QaDFtfR83v7V",
      "execution_count": 8,
      "outputs": [
        {
          "output_type": "stream",
          "name": "stdout",
          "text": [
            "<class 'bool'>\n",
            "<class 'bool'>\n"
          ]
        }
      ]
    },
    {
      "cell_type": "markdown",
      "source": [
        "7. Perform Boolean operations on these boolean variables."
      ],
      "metadata": {
        "id": "kRmHV3HC36f7"
      },
      "id": "kRmHV3HC36f7"
    },
    {
      "cell_type": "code",
      "source": [
        "and_result = is_true and is_false\n",
        "or_result = is_true or is_false\n",
        "not_true = not is_true\n",
        "\n",
        "print(f\"AND operation: {and_result}\")\n",
        "print(f\"OR operation: {or_result}\")\n",
        "print(f\"NOT operation (is_true): {not_true}\")"
      ],
      "metadata": {
        "colab": {
          "base_uri": "https://localhost:8080/"
        },
        "id": "l6beMnvB2emK",
        "outputId": "878a1b37-a11f-4abb-9948-8bb88445804b"
      },
      "id": "l6beMnvB2emK",
      "execution_count": 9,
      "outputs": [
        {
          "output_type": "stream",
          "name": "stdout",
          "text": [
            "AND operation: False\n",
            "OR operation: True\n",
            "NOT operation (is_true): False\n"
          ]
        }
      ]
    },
    {
      "cell_type": "markdown",
      "source": [
        "8. Create string variables with text values."
      ],
      "metadata": {
        "id": "I8f1gIju4KoT"
      },
      "id": "I8f1gIju4KoT"
    },
    {
      "cell_type": "code",
      "source": [
        "string1 = \"Hello\"\n",
        "string2 = \"World\"\n",
        "string3 = \"Python programming is fun.\""
      ],
      "metadata": {
        "id": "u3_SLz7W2tCI"
      },
      "id": "u3_SLz7W2tCI",
      "execution_count": 10,
      "outputs": []
    },
    {
      "cell_type": "markdown",
      "source": [
        "9. Print the contents and lengths of these string variables."
      ],
      "metadata": {
        "id": "IfEgxMrs4S9U"
      },
      "id": "IfEgxMrs4S9U"
    },
    {
      "cell_type": "code",
      "source": [
        "print(f\"string1: {string1}, length: {len(string1)}\")\n",
        "print(f\"string2: {string2}, length: {len(string2)}\")\n",
        "print(f\"string3: {string3}, length: {len(string3)}\")"
      ],
      "metadata": {
        "colab": {
          "base_uri": "https://localhost:8080/"
        },
        "id": "FCy6Ebom4RMF",
        "outputId": "234ac2c4-2305-4cd7-a451-be8602fcffc5"
      },
      "id": "FCy6Ebom4RMF",
      "execution_count": 11,
      "outputs": [
        {
          "output_type": "stream",
          "name": "stdout",
          "text": [
            "string1: Hello, length: 5\n",
            "string2: World, length: 5\n",
            "string3: Python programming is fun., length: 26\n"
          ]
        }
      ]
    },
    {
      "cell_type": "markdown",
      "source": [
        "10. Concatenate strings."
      ],
      "metadata": {
        "id": "pngzoFe04isA"
      },
      "id": "pngzoFe04isA"
    },
    {
      "cell_type": "code",
      "source": [
        "concatenated_string = string1 + \" \" + string2 + \". \" + string3\n",
        "print(f\"Concatenated string: {concatenated_string}\")"
      ],
      "metadata": {
        "colab": {
          "base_uri": "https://localhost:8080/"
        },
        "id": "OQKYLQox4e11",
        "outputId": "5279cbff-12af-4117-e185-e5e2da8aa30c"
      },
      "id": "OQKYLQox4e11",
      "execution_count": 12,
      "outputs": [
        {
          "output_type": "stream",
          "name": "stdout",
          "text": [
            "Concatenated string: Hello World. Python programming is fun.\n"
          ]
        }
      ]
    },
    {
      "cell_type": "markdown",
      "source": [
        "11. Format strings with variables."
      ],
      "metadata": {
        "id": "1PvF91CS6aDN"
      },
      "id": "1PvF91CS6aDN"
    },
    {
      "cell_type": "code",
      "source": [
        "name = \"Alice\"\n",
        "age = 30\n",
        "formatted_string = f\"My name is {name} and I am {age} years old.\"\n",
        "print(formatted_string)\n",
        "\n",
        "price = 19.99\n",
        "quantity = 3\n",
        "total_cost = price * quantity\n",
        "formatted_cost = f\"Item: {string3}, Price: ${price:.2f}, Quantity: {quantity}, Total: ${total_cost:.2f}\"\n",
        "formatted_cost"
      ],
      "metadata": {
        "colab": {
          "base_uri": "https://localhost:8080/",
          "height": 53
        },
        "id": "0oQ1O2E740Bj",
        "outputId": "071d9812-f9de-4c25-ca31-d0ccd92c4795"
      },
      "id": "0oQ1O2E740Bj",
      "execution_count": 13,
      "outputs": [
        {
          "output_type": "stream",
          "name": "stdout",
          "text": [
            "My name is Alice and I am 30 years old.\n"
          ]
        },
        {
          "output_type": "execute_result",
          "data": {
            "text/plain": [
              "'Item: Python programming is fun., Price: $19.99, Quantity: 3, Total: $59.97'"
            ],
            "application/vnd.google.colaboratory.intrinsic+json": {
              "type": "string"
            }
          },
          "metadata": {},
          "execution_count": 13
        }
      ]
    },
    {
      "cell_type": "markdown",
      "source": [
        "12. Use string methods to manipulate strings by capitalizing, converting to uppercase,\n",
        "justifying, centering, replacing substrings, and stripping whitespace."
      ],
      "metadata": {
        "id": "F-HobJCC66f_"
      },
      "id": "F-HobJCC66f_"
    },
    {
      "cell_type": "code",
      "source": [
        "my_string = \"   Hello World   \"\n",
        "\n",
        "capitalized_string = my_string.capitalize()\n",
        "print(f\"Capitalized: '{capitalized_string}'\")\n",
        "\n",
        "uppercase_string = my_string.upper()\n",
        "print(f\"Uppercase: '{uppercase_string}'\")\n",
        "\n",
        "justified_left = my_string.ljust(25, '*')\n",
        "print(f\"Left Justified: '{justified_left}'\")\n",
        "justified_right = my_string.rjust(25, '*')\n",
        "print(f\"Right Justified: '{justified_right}'\")\n",
        "\n",
        "centered_string = my_string.center(25, '*')\n",
        "print(f\"Centered: '{centered_string}'\")\n",
        "\n",
        "replaced_string = my_string.replace(\"World\", \"Python\")\n",
        "print(f\"Replaced: '{replaced_string}'\")\n",
        "\n",
        "stripped_string_left = my_string.lstrip()\n",
        "print(f\"Left stripped: '{stripped_string_left}'\")\n",
        "stripped_string_right = my_string.rstrip()\n",
        "print(f\"Right stripped: '{stripped_string_right}'\")\n",
        "stripped_string_both = my_string.strip()\n",
        "print(f\"Both stripped: '{stripped_string_both}'\")"
      ],
      "metadata": {
        "colab": {
          "base_uri": "https://localhost:8080/"
        },
        "id": "9l0-qdBi6ljI",
        "outputId": "40532e99-d020-40d5-9f5b-c26a005dd3d9"
      },
      "id": "9l0-qdBi6ljI",
      "execution_count": 14,
      "outputs": [
        {
          "output_type": "stream",
          "name": "stdout",
          "text": [
            "Capitalized: '   hello world   '\n",
            "Uppercase: '   HELLO WORLD   '\n",
            "Left Justified: '   Hello World   ********'\n",
            "Right Justified: '********   Hello World   '\n",
            "Centered: '****   Hello World   ****'\n",
            "Replaced: '   Hello Python   '\n",
            "Left stripped: 'Hello World   '\n",
            "Right stripped: '   Hello World'\n",
            "Both stripped: 'Hello World'\n"
          ]
        }
      ]
    },
    {
      "cell_type": "markdown",
      "source": [
        "13. Create and use Python lists. Perform tasks like appending elements, indexing, slic-\n",
        "ing, and iterating through the list."
      ],
      "metadata": {
        "id": "N5qgHU-P7tJ-"
      },
      "id": "N5qgHU-P7tJ-"
    },
    {
      "cell_type": "code",
      "source": [
        "my_list = [1, 2, 3, 'apple', 'banana']\n",
        "print(f\"Original list: {my_list}\")\n",
        "\n",
        "my_list.append(6)\n",
        "my_list.append('cherry')\n",
        "print(f\"After appending: {my_list}\")\n",
        "\n",
        "first_element = my_list[0]\n",
        "print(f\"First element: {first_element}\")\n",
        "\n",
        "last_element = my_list[-1]\n",
        "print(f\"Last element: {last_element}\")\n",
        "\n",
        "subset_list = my_list[1:4]\n",
        "print(f\"Subset of the list: {subset_list}\")\n",
        "\n",
        "print(\"Iterating through the list:\")\n",
        "for item in my_list:\n",
        "  print(item)"
      ],
      "metadata": {
        "colab": {
          "base_uri": "https://localhost:8080/"
        },
        "id": "ZUIMhHBq7tzQ",
        "outputId": "c139dd0b-4047-4452-840a-37c8f455131c"
      },
      "id": "ZUIMhHBq7tzQ",
      "execution_count": 18,
      "outputs": [
        {
          "output_type": "stream",
          "name": "stdout",
          "text": [
            "Original list: [1, 2, 3, 'apple', 'banana']\n",
            "After appending: [1, 2, 3, 'apple', 'banana', 6, 'cherry']\n",
            "First element: 1\n",
            "Last element: cherry\n",
            "Subset of the list: [2, 3, 'apple']\n",
            "Iterating through the list:\n",
            "1\n",
            "2\n",
            "3\n",
            "apple\n",
            "banana\n",
            "6\n",
            "cherry\n"
          ]
        }
      ]
    },
    {
      "cell_type": "markdown",
      "source": [
        "14. Create and use Python tuples. Perform tasks like indexing, slicing, and concatena-\n",
        "tion."
      ],
      "metadata": {
        "id": "tnTA95uf9LyQ"
      },
      "id": "tnTA95uf9LyQ"
    },
    {
      "cell_type": "code",
      "source": [
        "my_tuple = (10, 20, 30, 'apple', 'banana')\n",
        "print(f\"Original tuple: {my_tuple}\")\n",
        "\n",
        "first_element_tuple = my_tuple[0]\n",
        "print(f\"First element of the tuple: {first_element_tuple}\")\n",
        "\n",
        "last_element_tuple = my_tuple[-1]\n",
        "print(f\"Last element of the tuple: {last_element_tuple}\")\n",
        "\n",
        "subset_tuple = my_tuple[1:4]\n",
        "print(f\"Subset of the tuple: {subset_tuple}\")\n",
        "\n",
        "another_tuple = (40, 50)\n",
        "concatenated_tuple = my_tuple + another_tuple\n",
        "print(f\"Concatenated tuple: {concatenated_tuple}\")"
      ],
      "metadata": {
        "colab": {
          "base_uri": "https://localhost:8080/"
        },
        "id": "3PjQBH728OwR",
        "outputId": "5ae99ac4-6153-4503-e35f-22c8995b4f82"
      },
      "id": "3PjQBH728OwR",
      "execution_count": 19,
      "outputs": [
        {
          "output_type": "stream",
          "name": "stdout",
          "text": [
            "Original tuple: (10, 20, 30, 'apple', 'banana')\n",
            "First element of the tuple: 10\n",
            "Last element of the tuple: banana\n",
            "Subset of the tuple: (20, 30, 'apple')\n",
            "Concatenated tuple: (10, 20, 30, 'apple', 'banana', 40, 50)\n"
          ]
        }
      ]
    },
    {
      "cell_type": "markdown",
      "source": [
        "15. Create and use Python sets. Perform tasks like accessing, adding, deleting set ele-\n",
        "ments."
      ],
      "metadata": {
        "id": "3e3G6zeA9obv"
      },
      "id": "3e3G6zeA9obv"
    },
    {
      "cell_type": "code",
      "source": [
        "my_set = {1, 2, 3, 'apple', 'banana'}\n",
        "print(f\"Original set: {my_set}\")\n",
        "\n",
        "print(f\"'apple' in my_set: {'apple' in my_set}\")\n",
        "print(f\"'grape' in my_set: {'grape' in my_set}\")\n",
        "\n",
        "\n",
        "my_set.add(4)\n",
        "my_set.add('cherry')\n",
        "print(f\"After adding elements: {my_set}\")\n",
        "\n",
        "my_set.add(1)\n",
        "print(f\"After adding a duplicate element: {my_set}\")\n",
        "\n",
        "my_set.discard(2)\n",
        "my_set.discard('grape')\n",
        "print(f\"After discarding element 2 and 'grape': {my_set}\")\n",
        "\n",
        "my_set.remove('apple')\n",
        "try:\n",
        "    my_set.remove('grape')\n",
        "except KeyError:\n",
        "    print(\"Attempted to remove 'grape' which is not in the set, caught KeyError.\")\n",
        "print(f\"After removing 'apple': {my_set}\")\n",
        "\n",
        "popped_element = my_set.pop()\n",
        "print(f\"Popped element: {popped_element}\")\n",
        "print(f\"Set after popping an element: {my_set}\")\n",
        "\n",
        "my_set.clear()\n",
        "print(f\"Set after clearing: {my_set}\")"
      ],
      "metadata": {
        "colab": {
          "base_uri": "https://localhost:8080/"
        },
        "id": "sF6cVs-g9rGZ",
        "outputId": "c75e785c-8c73-4500-da5d-9f466da6e548"
      },
      "id": "sF6cVs-g9rGZ",
      "execution_count": 21,
      "outputs": [
        {
          "output_type": "stream",
          "name": "stdout",
          "text": [
            "Original set: {'banana', 1, 2, 3, 'apple'}\n",
            "'apple' in my_set: True\n",
            "'grape' in my_set: False\n",
            "After adding elements: {'banana', 1, 2, 3, 'apple', 4, 'cherry'}\n",
            "After adding a duplicate element: {'banana', 1, 2, 3, 'apple', 4, 'cherry'}\n",
            "After discarding element 2 and 'grape': {'banana', 1, 3, 'apple', 4, 'cherry'}\n",
            "Attempted to remove 'grape' which is not in the set, caught KeyError.\n",
            "After removing 'apple': {'banana', 1, 3, 4, 'cherry'}\n",
            "Popped element: banana\n",
            "Set after popping an element: {1, 3, 4, 'cherry'}\n",
            "Set after clearing: set()\n"
          ]
        }
      ]
    },
    {
      "cell_type": "markdown",
      "source": [
        "16. Create and use Python dictionaries. Perform tasks like adding, updating, and re-\n",
        "moving key-value pairs, and accessing values."
      ],
      "metadata": {
        "id": "kBG0T4hM-qWn"
      },
      "id": "kBG0T4hM-qWn"
    },
    {
      "cell_type": "code",
      "source": [
        "my_dict = {'name': 'Alice', 'age': 30, 'city': 'New York'}\n",
        "print(f\"Original dictionary: {my_dict}\")\n",
        "\n",
        "print(f\"Name: {my_dict['name']}\")\n",
        "print(f\"Age: {my_dict['age']}\")\n",
        "\n",
        "my_dict['occupation'] = 'Engineer'\n",
        "print(f\"After adding occupation: {my_dict}\")\n",
        "\n",
        "my_dict['age'] = 31\n",
        "print(f\"After updating age: {my_dict}\")\n",
        "\n",
        "del my_dict['city']\n",
        "print(f\"After deleting city: {my_dict}\")\n",
        "\n",
        "popped_value = my_dict.pop('occupation')\n",
        "print(f\"Popped value: {popped_value}\")\n",
        "print(f\"After popping occupation: {my_dict}\")\n",
        "\n",
        "print(\"Keys in the dictionary:\")\n",
        "for key in my_dict.keys():\n",
        "  print(key)\n",
        "\n",
        "print(\"Values in the dictionary:\")\n",
        "for value in my_dict.values():\n",
        "  print(value)\n",
        "\n",
        "print(\"Items in the dictionary:\")\n",
        "for key, value in my_dict.items():\n",
        "  print(f\"{key}: {value}\")\n",
        "\n",
        "country = my_dict.get('country', 'Unknown')\n",
        "print(f\"Country: {country}\")\n",
        "\n",
        "name = my_dict.get('name')\n",
        "print(f\"Name using .get(): {name}\")"
      ],
      "metadata": {
        "colab": {
          "base_uri": "https://localhost:8080/"
        },
        "id": "S0fk1rBV-q-G",
        "outputId": "a3172a73-6414-49f9-e0da-dad78c02be60"
      },
      "id": "S0fk1rBV-q-G",
      "execution_count": 23,
      "outputs": [
        {
          "output_type": "stream",
          "name": "stdout",
          "text": [
            "Original dictionary: {'name': 'Alice', 'age': 30, 'city': 'New York'}\n",
            "Name: Alice\n",
            "Age: 30\n",
            "After adding occupation: {'name': 'Alice', 'age': 30, 'city': 'New York', 'occupation': 'Engineer'}\n",
            "After updating age: {'name': 'Alice', 'age': 31, 'city': 'New York', 'occupation': 'Engineer'}\n",
            "After deleting city: {'name': 'Alice', 'age': 31, 'occupation': 'Engineer'}\n",
            "Popped value: Engineer\n",
            "After popping occupation: {'name': 'Alice', 'age': 31}\n",
            "Keys in the dictionary:\n",
            "name\n",
            "age\n",
            "Values in the dictionary:\n",
            "Alice\n",
            "31\n",
            "Items in the dictionary:\n",
            "name: Alice\n",
            "age: 31\n",
            "Country: Unknown\n",
            "Name using .get(): Alice\n"
          ]
        }
      ]
    },
    {
      "cell_type": "markdown",
      "source": [
        "17. Define simple functions with parameters and return values."
      ],
      "metadata": {
        "id": "Otlycf8y_Oee"
      },
      "id": "Otlycf8y_Oee"
    },
    {
      "cell_type": "code",
      "source": [
        "def add_numbers(x, y):\n",
        "  return x + y\n",
        "\n",
        "def greet(name):\n",
        "  return f\"Hello, {name}!\"\n",
        "\n",
        "result_sum = add_numbers(5, 7)\n",
        "print(f\"Sum of 5 and 7: {result_sum}\")\n",
        "\n",
        "greeting_message = greet(\"Bob\")\n",
        "greeting_message"
      ],
      "metadata": {
        "colab": {
          "base_uri": "https://localhost:8080/",
          "height": 53
        },
        "id": "MNCbwCNb-8Wz",
        "outputId": "50f2ce5b-77ec-435b-c0c7-c5f3cbe17895"
      },
      "id": "MNCbwCNb-8Wz",
      "execution_count": 24,
      "outputs": [
        {
          "output_type": "stream",
          "name": "stdout",
          "text": [
            "Sum of 5 and 7: 12\n"
          ]
        },
        {
          "output_type": "execute_result",
          "data": {
            "text/plain": [
              "'Hello, Bob!'"
            ],
            "application/vnd.google.colaboratory.intrinsic+json": {
              "type": "string"
            }
          },
          "metadata": {},
          "execution_count": 24
        }
      ]
    },
    {
      "cell_type": "markdown",
      "source": [
        "18. Call functions with different arguments and use the returned results."
      ],
      "metadata": {
        "id": "_yJl6MFD_jNz"
      },
      "id": "_yJl6MFD_jNz"
    },
    {
      "cell_type": "code",
      "source": [
        "result1 = add_numbers(15, 20)\n",
        "result2 = add_numbers(-5, 10)\n",
        "result3 = add_numbers(2.5, 3.7)\n",
        "\n",
        "print(f\"Result of add_numbers(15, 20): {result1}\")\n",
        "print(f\"Result of add_numbers(-5, 10): {result2}\")\n",
        "print(f\"Result of add_numbers(2.5, 3.7): {result3}\")\n",
        "\n",
        "sum_of_results = result1 + result2\n",
        "print(f\"Sum of the first two results: {sum_of_results}\")\n",
        "\n",
        "greeting1 = greet(\"Charlie\")\n",
        "greeting2 = greet(\"Diana\")\n",
        "\n",
        "print(greeting1)\n",
        "print(greeting2)\n",
        "\n",
        "combined_greetings = greeting1 + \" \" + greeting2\n",
        "print(f\"Combined greetings: {combined_greetings}\")"
      ],
      "metadata": {
        "colab": {
          "base_uri": "https://localhost:8080/"
        },
        "id": "Ss0DMIZR_j42",
        "outputId": "2fe059a4-e8cd-48ac-e07d-a6dad6f5d101"
      },
      "id": "Ss0DMIZR_j42",
      "execution_count": 25,
      "outputs": [
        {
          "output_type": "stream",
          "name": "stdout",
          "text": [
            "Result of add_numbers(15, 20): 35\n",
            "Result of add_numbers(-5, 10): 5\n",
            "Result of add_numbers(2.5, 3.7): 6.2\n",
            "Sum of the first two results: 40\n",
            "Hello, Charlie!\n",
            "Hello, Diana!\n",
            "Combined greetings: Hello, Charlie! Hello, Diana!\n"
          ]
        }
      ]
    },
    {
      "cell_type": "markdown",
      "source": [
        "19. Write functions that accept other functions as arguments."
      ],
      "metadata": {
        "id": "1ykxwAlO_-IH"
      },
      "id": "1ykxwAlO_-IH"
    },
    {
      "cell_type": "code",
      "source": [
        "def apply_function(func, value):\n",
        "  return func(value)\n",
        "\n",
        "def square(x):\n",
        "  return x * x\n",
        "\n",
        "def double(x):\n",
        "  return x * 2\n",
        "\n",
        "number = 10\n",
        "\n",
        "result_square = apply_function(square, number)\n",
        "print(f\"Applying square to {number}: {result_square}\")\n",
        "\n",
        "result_double = apply_function(double, number)\n",
        "print(f\"Applying double to {number}: {result_double}\")\n",
        "\n",
        "result_triple = apply_function(lambda x: x * 3, number)\n",
        "print(f\"Applying triple (lambda) to {number}: {result_triple}\")"
      ],
      "metadata": {
        "colab": {
          "base_uri": "https://localhost:8080/"
        },
        "id": "zakIU8DM_-n4",
        "outputId": "ece56493-f5e1-4489-c5ad-020938d7da0f"
      },
      "id": "zakIU8DM_-n4",
      "execution_count": 26,
      "outputs": [
        {
          "output_type": "stream",
          "name": "stdout",
          "text": [
            "Applying square to 10: 100\n",
            "Applying double to 10: 20\n",
            "Applying triple (lambda) to 10: 30\n"
          ]
        }
      ]
    },
    {
      "cell_type": "markdown",
      "source": [
        "20. Define and use Python classes. Include tasks like creating a class, defining methods,\n",
        "and creating instances."
      ],
      "metadata": {
        "id": "cMUv9ne6AWUj"
      },
      "id": "cMUv9ne6AWUj"
    },
    {
      "cell_type": "code",
      "source": [
        "class Dog:\n",
        "  def __init__(self, name, breed):\n",
        "    self.name = name\n",
        "    self.breed = breed\n",
        "\n",
        "  def bark(self):\n",
        "    return f\"{self.name} says Woof!\"\n",
        "\n",
        "my_dog = Dog(\"Buddy\", \"Labrador\")\n",
        "print(f\"My dog's name is {my_dog.name} and the breed is {my_dog.breed}.\")\n",
        "print(my_dog.bark())\n",
        "\n",
        "another_dog = Dog(\"Lucy\", \"Poodle\")\n",
        "print(f\"Another dog's name is {another_dog.name} and the breed is {another_dog.breed}.\")\n",
        "print(another_dog.bark())"
      ],
      "metadata": {
        "colab": {
          "base_uri": "https://localhost:8080/"
        },
        "id": "Q89r5xE5AXCc",
        "outputId": "d956b729-a29e-4c1f-a641-8bba949b3898"
      },
      "id": "Q89r5xE5AXCc",
      "execution_count": 27,
      "outputs": [
        {
          "output_type": "stream",
          "name": "stdout",
          "text": [
            "My dog's name is Buddy and the breed is Labrador.\n",
            "Buddy says Woof!\n",
            "Another dog's name is Lucy and the breed is Poodle.\n",
            "Lucy says Woof!\n"
          ]
        }
      ]
    },
    {
      "cell_type": "markdown",
      "source": [
        "21. Implement class inheritance and method overriding."
      ],
      "metadata": {
        "id": "omaZHExJAdVu"
      },
      "id": "omaZHExJAdVu"
    },
    {
      "cell_type": "code",
      "source": [
        "class Animal:\n",
        "  def __init__(self, name):\n",
        "    self.name = name\n",
        "\n",
        "  def make_sound(self):\n",
        "    return \"Generic animal sound\"\n",
        "\n",
        "class Cat(Animal):\n",
        "  def make_sound(self):\n",
        "    return f\"{self.name} says Meow!\"\n",
        "\n",
        "class Cow(Animal):\n",
        "  def make_sound(self):\n",
        "    return f\"{self.name} says Moo!\"\n",
        "\n",
        "generic_animal = Animal(\"Creature\")\n",
        "print(generic_animal.make_sound())\n",
        "\n",
        "my_cat = Cat(\"Whiskers\")\n",
        "print(my_cat.make_sound())\n",
        "\n",
        "my_cow = Cow(\"Bessie\")\n",
        "print(my_cow.make_sound())"
      ],
      "metadata": {
        "colab": {
          "base_uri": "https://localhost:8080/"
        },
        "id": "m0AqarADAjzC",
        "outputId": "ae2ea30c-0342-4654-c4cb-394a1dbc6997"
      },
      "id": "m0AqarADAjzC",
      "execution_count": 28,
      "outputs": [
        {
          "output_type": "stream",
          "name": "stdout",
          "text": [
            "Generic animal sound\n",
            "Whiskers says Meow!\n",
            "Bessie says Moo!\n"
          ]
        }
      ]
    },
    {
      "cell_type": "markdown",
      "source": [
        "22. Create a class with class variables and instance variables, and demonstrate their\n",
        "usage."
      ],
      "metadata": {
        "id": "kWLLxMUQA2C2"
      },
      "id": "kWLLxMUQA2C2"
    },
    {
      "cell_type": "code",
      "source": [
        "class Car:\n",
        "  number_of_wheels = 4\n",
        "\n",
        "  def __init__(self, make, model):\n",
        "    self.make = make\n",
        "    self.model = model\n",
        "\n",
        "  def display_info(self):\n",
        "    print(f\"Make: {self.make}, Model: {self.model}, Wheels: {Car.number_of_wheels}\")\n",
        "\n",
        "car1 = Car(\"Toyota\", \"Camry\")\n",
        "car2 = Car(\"Honda\", \"Civic\")\n",
        "\n",
        "print(f\"Car 1 instance variables: Make='{car1.make}', Model='{car1.model}'\")\n",
        "print(f\"Car 2 instance variables: Make='{car2.make}', Model='{car2.model}'\")\n",
        "\n",
        "print(f\"Class variable (using class name): {Car.number_of_wheels}\")\n",
        "print(f\"Class variable (using instance car1): {car1.number_of_wheels}\")\n",
        "print(f\"Class variable (using instance car2): {car2.number_of_wheels}\")\n",
        "\n",
        "Car.number_of_wheels = 3\n",
        "print(f\"\\nAfter changing class variable:\")\n",
        "print(f\"Class variable (using class name): {Car.number_of_wheels}\")\n",
        "print(f\"Class variable (using instance car1): {car1.number_of_wheels}\")\n",
        "print(f\"Class variable (using instance car2): {car2.number_of_wheels}\")\n",
        "\n",
        "car1.display_info()\n",
        "car2.display_info()"
      ],
      "metadata": {
        "colab": {
          "base_uri": "https://localhost:8080/"
        },
        "id": "CUuKCl61A2iX",
        "outputId": "cfb13d0f-0e59-429a-c51b-bf48bd103d37"
      },
      "id": "CUuKCl61A2iX",
      "execution_count": 30,
      "outputs": [
        {
          "output_type": "stream",
          "name": "stdout",
          "text": [
            "Car 1 instance variables: Make='Toyota', Model='Camry'\n",
            "Car 2 instance variables: Make='Honda', Model='Civic'\n",
            "Class variable (using class name): 4\n",
            "Class variable (using instance car1): 4\n",
            "Class variable (using instance car2): 4\n",
            "\n",
            "After changing class variable:\n",
            "Class variable (using class name): 3\n",
            "Class variable (using instance car1): 3\n",
            "Class variable (using instance car2): 3\n",
            "Make: Toyota, Model: Camry, Wheels: 3\n",
            "Make: Honda, Model: Civic, Wheels: 3\n"
          ]
        }
      ]
    }
  ],
  "metadata": {
    "kernelspec": {
      "display_name": "Python 3 (ipykernel)",
      "language": "python",
      "name": "python3"
    },
    "language_info": {
      "codemirror_mode": {
        "name": "ipython",
        "version": 3
      },
      "file_extension": ".py",
      "mimetype": "text/x-python",
      "name": "python",
      "nbconvert_exporter": "python",
      "pygments_lexer": "ipython3",
      "version": "3.13.5"
    },
    "colab": {
      "provenance": []
    }
  },
  "nbformat": 4,
  "nbformat_minor": 5
}