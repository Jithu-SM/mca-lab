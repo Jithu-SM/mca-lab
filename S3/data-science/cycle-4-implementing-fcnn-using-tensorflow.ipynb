{
  "nbformat": 4,
  "nbformat_minor": 0,
  "metadata": {
    "colab": {
      "provenance": []
    },
    "kernelspec": {
      "name": "python3",
      "display_name": "Python 3"
    },
    "language_info": {
      "name": "python"
    }
  },
  "cells": [
    {
      "cell_type": "markdown",
      "source": [
        "#Implementing an FCNN from Scratch using TensorFlow"
      ],
      "metadata": {
        "id": "WgUpNdDyY6c9"
      }
    },
    {
      "cell_type": "markdown",
      "source": [
        "Implement the following computations using TensorFlow:\n",
        "1. Load the the MNIST dataset from tensorflow as x train, y train, x test and y test.\n",
        "The Modified National Institute of Standards and Technology (MNIST) dataset\n",
        "contains grayscale images of handwritten digits. The training set consists of 60,000\n",
        "images and the test set contains 10,000 images. The label of each image is a digit\n",
        "between 0 and 9. Each image has a size of 28 × 28, consisting of 784 pixel values,\n",
        "where each pixel value ∈ [0, 255] with 0 corresponds to black, 255 to white, and\n",
        "values in between representing various shades of gray.\n",
        "2. Form a matrix U of shape (m, n) using TensorFlow by reshaping the images in\n",
        "x train to be 1D arrays of 784 (28 × 28) pixel values (Flatten the images) where\n",
        "m = 60, 000 is the number of training examples (training images) and n = 784 is\n",
        "the number of features (no. of pixel values)\n",
        "3. Compute X as the transpose of U.\n",
        "4. Normalize the pixel values of X to [0, 1] by dividing by 255.\n",
        "5. Form a matrix Y of size m corresponding to the labels ∈ [0, 9] of images by transposing y train.\n",
        "6. Form a matrix V by reshaping the images in x test to be 1D arrays of 784 (28 × 28)\n",
        "pixel values (Flatten the images).\n",
        "7. Compute Xtest as the transpose of V .\n",
        "8. Normalize the pixel values of Xtest to [0, 1] by dividing by 255.\n",
        "9. Form a matrix Y test of size m corresponding to the labels ∈ [0, 9] of images by\n",
        "transposing y test.\n",
        "10. Select an image from X and display it. Also, display the corresponding label from\n",
        "Y.\n",
        "11. Set the hyper parameters: p = 10, the no. of neurons in hidden layer, q = 10,\n",
        "the no. of neurons in output layer (corresponding 10 labels in one-hot encoding\n",
        "format), learning rate α = 0.01 and the number of training epochs (iterations over\n",
        "the dataset) as 1000.\n",
        "12. Create a matrix W1 of shape (p, n) and initialize it as W1 = N (0, 1) ×\n",
        "q\n",
        "1\n",
        "n\n",
        ", where\n",
        "N (0, 1) represents a matrix of random values drawn from a normal distribution with\n",
        "mean 0 and standard deviation 1.\n",
        "13. Initialize the vector B1 of shape (p, 1) to zeros.\n",
        "14. Initialize the matrix W2 of shape (q, p) as W2 = N (0, 1) ×\n",
        "q1\n",
        "p\n",
        ".\n",
        "15. Initialize the vector B2 of shape (q, 1) to zeros.\n",
        "16. Perform the following forward propagation and backpropagation computations iteratively (No. of epochs=1000):\n",
        "\n",
        "  (a) Z1 = W1 · X + B1 (Matrix Multiplication)\n",
        "\n",
        "  (b) A1 = ReLU(Z1) where ReLU(x) is a function that returns 0 for negative values\n",
        "and the input value itself otherwise.\n",
        "\n",
        "  (c) Z2 = W2 · A1 + B2\n",
        "\n",
        "  (d) A2 = softmax(Z2) where $\n",
        "\\text{softmax}(x) = \\frac{e^{x_i}}{\\sum_j e^{x_j}}\n",
        "$\n",
        "\n",
        "  (e) Get the predicted labels from the output of A2 (index of the maximum value).\n",
        "\n",
        "  (f) Find the accuracy of the predictions by comparing them to the true labels Y\n",
        "and print the progress in every 100 epochs.\n",
        "\n",
        "  (g) Compute the cross-entropy loss using TensorFlow’s tf.nn.softmax cross entropy with logits\n",
        "function.\n",
        "\n",
        "  (h) dZ2 = A2 − one hot Y where one hot Y is the one-hot encoded form of Y .\n",
        "\n",
        "  (i) $ dA2 = W2 ^ T · dZ2 $\n",
        "\n",
        "  (j) $ dW2 = \\frac 1 m· dZ2 · A1^T $\n",
        "\n",
        "  (k) $ dB2 = \\frac 1 m \\sum Z2 $ (sum along the columns)\n",
        "\n",
        "  (l) dZ1 = dA2◦ReLU'(Z1) where ReLU'(x) returns 1 for positive values\n",
        "and 0 otherwise, and ◦ indicates element-wise multiplication.\n",
        "\n",
        "  (m) $ dA1 = W1^T · dZ1 $\n",
        "\n",
        "  (n) $ dB1 = \\frac 1 m \\sum dZ1 $ (sum along the columns)\n",
        "\n",
        "  (o) $ dW1 = \\frac 1 m · dZ1 · X^T $\n",
        "\n",
        "  (p) Update and print W1, B1, W2, and B2 for α = 0.01:\n",
        "\n",
        "   - i. W1 = W1 − α · dW1\n",
        "\n",
        "   - ii. B1 = B1 − α · dB1\n",
        "\n",
        "   - iii. W2 = W2 − α · dW2\n",
        "\n",
        "   - iv. B2 = B2 − α · dB2\n",
        "\n",
        "17. Use tensorflow GradientTape() to automatically calculate the gradients from steps\n",
        "(h) to (o) and redo the training steps.\n",
        "18. Select one test image from Xtest, display it, reshape it to n × 1, perform forward\n",
        "propagation computations and predict the label. Check whether the prediction is\n",
        "correct.\n",
        "19. Use the entire Xtest and perform the forward propagation computations and predict\n",
        "the accuracy of the model.\n"
      ],
      "metadata": {
        "id": "-YwQFDAtZJ9E"
      }
    },
    {
      "cell_type": "code",
      "execution_count": null,
      "metadata": {
        "id": "K2wZtXtkr9RC"
      },
      "outputs": [],
      "source": [
        "import tensorflow as tf\n",
        "import numpy as np\n",
        "import matplotlib.pyplot as plt\n"
      ]
    },
    {
      "cell_type": "code",
      "source": [
        "(x_train, y_train), (x_test, y_test) = tf.keras.datasets.mnist.load_data()\n",
        "m_train = x_train.shape[0]\n",
        "n = 28 * 28\n",
        "U = tf.reshape(x_train, shape=(m_train, n))\n",
        "X = tf.transpose(U)\n",
        "X = tf.cast(X, tf.float32) / 255.0\n",
        "Y = tf.reshape(y_train, shape=(1, m_train))\n",
        "m_test = x_test.shape[0]\n",
        "V = tf.reshape(x_test, shape=(m_test, n))\n",
        "Xtest = tf.transpose(V)\n",
        "Xtest = tf.cast(Xtest, tf.float32) / 255.0\n",
        "Ytest = tf.reshape(y_test, shape=(1, m_test))\n"
      ],
      "metadata": {
        "colab": {
          "base_uri": "https://localhost:8080/"
        },
        "id": "_63b4YCDsXiO",
        "outputId": "bf3af1ac-51d1-4be3-dbca-8a84defa9777"
      },
      "execution_count": null,
      "outputs": [
        {
          "output_type": "stream",
          "name": "stdout",
          "text": [
            "Downloading data from https://storage.googleapis.com/tensorflow/tf-keras-datasets/mnist.npz\n",
            "\u001b[1m11490434/11490434\u001b[0m \u001b[32m━━━━━━━━━━━━━━━━━━━━\u001b[0m\u001b[37m\u001b[0m \u001b[1m0s\u001b[0m 0us/step\n"
          ]
        }
      ]
    },
    {
      "cell_type": "code",
      "source": [
        "idx = 0\n",
        "image = tf.reshape(X[:, idx], shape=(28, 28))\n",
        "plt.imshow(image, cmap='gray')\n",
        "plt.title(f\"Label: {Y[0, idx].numpy()}\")\n",
        "plt.show()\n"
      ],
      "metadata": {
        "colab": {
          "base_uri": "https://localhost:8080/",
          "height": 452
        },
        "id": "w9EP5ABbsdeH",
        "outputId": "783e723f-8b43-4915-a19e-4266cdcaf939"
      },
      "execution_count": null,
      "outputs": [
        {
          "output_type": "display_data",
          "data": {
            "text/plain": [
              "<Figure size 640x480 with 1 Axes>"
            ],
            "image/png": "[encoded data removed]"
          },
          "metadata": {}
        }
      ]
    },
    {
      "cell_type": "code",
      "source": [
        "p = 10\n",
        "q = 10\n",
        "alpha = 0.01\n",
        "epochs = 1000"
      ],
      "metadata": {
        "id": "t2HK_rdnshs0"
      },
      "execution_count": null,
      "outputs": []
    },
    {
      "cell_type": "code",
      "source": [
        "W1 = tf.Variable(tf.random.normal(shape=(p, n), mean=0.0, stddev=1.0) * (q ** (1/2) / n))\n",
        "B1 = tf.Variable(tf.zeros(shape=(p, 1)))\n",
        "W2 = tf.Variable(tf.random.normal(shape=(q, p), mean=0.0, stddev=1.0) * (q ** (1/2) / p))\n",
        "B2 = tf.Variable(tf.zeros(shape=(q, 1)))\n"
      ],
      "metadata": {
        "id": "eYPQfy1Zs1uq"
      },
      "execution_count": null,
      "outputs": []
    },
    {
      "cell_type": "code",
      "source": [
        "\n",
        "def relu(Z):\n",
        "    return tf.maximum(Z, 0)\n",
        "\n",
        "def relu_derivative(Z):\n",
        "    return tf.cast(Z > 0, tf.float32)\n",
        "\n",
        "def softmax(Z):\n",
        "    exp_Z = tf.exp(Z - tf.reduce_max(Z, axis=0, keepdims=True))\n",
        "    return exp_Z / tf.reduce_sum(exp_Z, axis=0, keepdims=True)\n",
        "\n",
        "def one_hot(Y, num_classes=10):\n",
        "    Y_flat = tf.reshape(Y, [-1])\n",
        "    return tf.one_hot(Y_flat, depth=num_classes)\n",
        "\n",
        "def one_hot_T(Y, num_classes=10):\n",
        "    oh = one_hot(Y, num_classes)\n",
        "    return tf.transpose(oh)\n",
        "\n",
        "m = m_train"
      ],
      "metadata": {
        "id": "QP5klABUs4Jh"
      },
      "execution_count": null,
      "outputs": []
    },
    {
      "cell_type": "code",
      "source": [
        "for epoch in range(1, epochs + 1):\n",
        "    with tf.GradientTape() as tape:\n",
        "        Z1 = tf.matmul(W1, X) + B1\n",
        "        A1 = relu(Z1)\n",
        "        Z2 = tf.matmul(W2, A1) + B2\n",
        "        A2 = softmax(Z2)\n",
        "        Y_onehot = one_hot_T(Y, q)\n",
        "        loss = tf.reduce_mean(tf.nn.softmax_cross_entropy_with_logits(labels=tf.transpose(Y_onehot), logits=tf.transpose(Z2)))\n",
        "\n",
        "    dZ2 = A2 - Y_onehot\n",
        "    dW2 = (1/m) * tf.matmul(dZ2, A1, transpose_b=True)\n",
        "    dB2 = (1/m) * tf.reduce_sum(dZ2, axis=1, keepdims=True)\n",
        "    dA1 = tf.matmul(W2, dZ2, transpose_a=True)\n",
        "    dZ1 = dA1 * relu_derivative(Z1)\n",
        "    dW1 = (1/m) * tf.matmul(dZ1, X, transpose_b=True)\n",
        "    dB1 = (1/m) * tf.reduce_sum(dZ1, axis=1, keepdims=True)\n",
        "\n",
        "    W1.assign_sub(alpha * dW1)\n",
        "    B1.assign_sub(alpha * dB1)\n",
        "    W2.assign_sub(alpha * dW2)\n",
        "    B2.assign_sub(alpha * dB2)\n",
        "\n",
        "    if epoch % 100 == 0:\n",
        "        preds = tf.argmax(A2, axis=0, output_type=tf.int32)\n",
        "        correct = tf.equal(preds, tf.cast(Y[0], tf.int32))\n",
        "        accuracy = tf.reduce_mean(tf.cast(correct, tf.float32))\n",
        "        print(f\"Epoch {epoch}, Loss: {loss.numpy():.4f}, Accuracy: {accuracy.numpy()*100:.2f}%\")\n",
        "\n",
        "print(\"\\nTraining with GradientTape automatic differentiation...\")\n"
      ],
      "metadata": {
        "colab": {
          "base_uri": "https://localhost:8080/"
        },
        "id": "a4VWbHgNs8BR",
        "outputId": "795a3479-13c0-4131-c715-5d30fbc0fd48"
      },
      "execution_count": null,
      "outputs": [
        {
          "output_type": "stream",
          "name": "stdout",
          "text": [
            "Epoch 100, Loss: 2.0550, Accuracy: 42.53%\n",
            "Epoch 200, Loss: 1.8844, Accuracy: 48.87%\n",
            "Epoch 300, Loss: 1.7117, Accuracy: 58.54%\n",
            "Epoch 400, Loss: 1.5212, Accuracy: 67.02%\n",
            "Epoch 500, Loss: 1.3345, Accuracy: 71.14%\n",
            "Epoch 600, Loss: 1.1607, Accuracy: 74.10%\n",
            "Epoch 700, Loss: 0.9945, Accuracy: 78.14%\n",
            "Epoch 800, Loss: 0.8433, Accuracy: 82.09%\n",
            "Epoch 900, Loss: 0.7321, Accuracy: 83.96%\n",
            "Epoch 1000, Loss: 0.6581, Accuracy: 84.82%\n",
            "\n",
            "Training with GradientTape automatic differentiation...\n"
          ]
        }
      ]
    },
    {
      "cell_type": "code",
      "source": [
        "\n",
        "W1.assign(tf.random.normal(shape=(p, n), mean=0.0, stddev=1.0) * (q ** (1/2) / n))\n",
        "B1.assign(tf.zeros(shape=(p, 1)))\n",
        "W2.assign(tf.random.normal(shape=(q, p), mean=0.0, stddev=1.0) * (q ** (1/2) / p))\n",
        "B2.assign(tf.zeros(shape=(q, 1)))"
      ],
      "metadata": {
        "colab": {
          "base_uri": "https://localhost:8080/"
        },
        "id": "Sj2Nzmf1tC2X",
        "outputId": "bae7a1ee-429b-4ce7-8eef-594e10467878"
      },
      "execution_count": null,
      "outputs": [
        {
          "output_type": "execute_result",
          "data": {
            "text/plain": [
              "<tf.Variable 'UnreadVariable' shape=(10, 1) dtype=float32, numpy=\n",
              "array([[0.],\n",
              "       [0.],\n",
              "       [0.],\n",
              "       [0.],\n",
              "       [0.],\n",
              "       [0.],\n",
              "       [0.],\n",
              "       [0.],\n",
              "       [0.],\n",
              "       [0.]], dtype=float32)>"
            ]
          },
          "metadata": {},
          "execution_count": 10
        }
      ]
    },
    {
      "cell_type": "code",
      "source": [
        "for epoch in range(1, epochs + 1):\n",
        "    with tf.GradientTape() as tape:\n",
        "        Z1 = tf.matmul(W1, X) + B1\n",
        "        A1 = relu(Z1)\n",
        "        Z2 = tf.matmul(W2, A1) + B2\n",
        "        A2 = softmax(Z2)\n",
        "        Y_onehot = one_hot_T(Y, q)\n",
        "        loss = tf.reduce_mean(tf.nn.softmax_cross_entropy_with_logits(labels=tf.transpose(Y_onehot), logits=tf.transpose(Z2)))\n",
        "\n",
        "    grads = tape.gradient(loss, [W1, B1, W2, B2])\n",
        "    W1.assign_sub(alpha * grads[0])\n",
        "    B1.assign_sub(alpha * grads[1])\n",
        "    W2.assign_sub(alpha * grads[2])\n",
        "    B2.assign_sub(alpha * grads[3])\n",
        "\n",
        "    if epoch % 100 == 0:\n",
        "        preds = tf.argmax(A2, axis=0, output_type=tf.int32)\n",
        "        correct = tf.equal(preds, tf.cast(Y[0], tf.int32))\n",
        "        accuracy = tf.reduce_mean(tf.cast(correct, tf.float32))\n",
        "        print(f\"Epoch {epoch}, Loss: {loss.numpy():.4f}, Accuracy: {accuracy.numpy()*100:.2f}%\")\n"
      ],
      "metadata": {
        "colab": {
          "base_uri": "https://localhost:8080/"
        },
        "id": "lqMlcRC8uU4H",
        "outputId": "4a44ad93-f021-427b-9638-a6dfaede5c93"
      },
      "execution_count": null,
      "outputs": [
        {
          "output_type": "stream",
          "name": "stdout",
          "text": [
            "Epoch 100, Loss: 1.7792, Accuracy: 53.91%\n",
            "Epoch 200, Loss: 1.4631, Accuracy: 65.27%\n",
            "Epoch 300, Loss: 1.2204, Accuracy: 71.58%\n",
            "Epoch 400, Loss: 1.0432, Accuracy: 75.02%\n",
            "Epoch 500, Loss: 0.9166, Accuracy: 77.23%\n",
            "Epoch 600, Loss: 0.8239, Accuracy: 79.22%\n",
            "Epoch 700, Loss: 0.7536, Accuracy: 80.71%\n",
            "Epoch 800, Loss: 0.6985, Accuracy: 81.88%\n",
            "Epoch 900, Loss: 0.6540, Accuracy: 82.86%\n",
            "Epoch 1000, Loss: 0.6172, Accuracy: 83.88%\n"
          ]
        }
      ]
    },
    {
      "cell_type": "code",
      "source": [
        "\n",
        "test_idx = 0\n",
        "test_image = tf.reshape(Xtest[:, test_idx], (n,1))\n",
        "plt.imshow(tf.reshape(test_image, (28,28)), cmap='gray')\n",
        "plt.title(f\"True Label: {Ytest[0, test_idx].numpy()}\")\n",
        "plt.show()\n",
        "\n",
        "Z1_test = tf.matmul(W1, test_image) + B1\n",
        "A1_test = relu(Z1_test)\n",
        "Z2_test = tf.matmul(W2, A1_test) + B2\n",
        "A2_test = softmax(Z2_test)\n",
        "\n",
        "pred_label = tf.argmax(A2_test, axis=0).numpy()\n",
        "print(f\"Predicted Label: {pred_label}\")\n",
        "print(\"Correct prediction!\" if pred_label == Ytest[0, test_idx].numpy() else \"Incorrect prediction.\")\n",
        "\n",
        "Z1_test_all = tf.matmul(W1, Xtest) + B1\n",
        "A1_test_all = relu(Z1_test_all)\n",
        "Z2_test_all = tf.matmul(W2, A1_test_all) + B2\n",
        "A2_test_all = softmax(Z2_test_all)\n",
        "\n",
        "preds_test = tf.argmax(A2_test_all, axis=0, output_type=tf.int32)\n",
        "correct_test = tf.equal(preds_test, tf.cast(Ytest[0], tf.int32))\n",
        "accuracy_test = tf.reduce_mean(tf.cast(correct_test, tf.float32))\n",
        "print(f\"Test Set Accuracy: {accuracy_test.numpy()*100:.2f}%\")"
      ],
      "metadata": {
        "colab": {
          "base_uri": "https://localhost:8080/",
          "height": 506
        },
        "id": "MI8Z-OPMvVxX",
        "outputId": "603c07ab-a53f-49a2-a2b0-084a0ed6d623"
      },
      "execution_count": null,
      "outputs": [
        {
          "output_type": "display_data",
          "data": {
            "text/plain": [
              "<Figure size 640x480 with 1 Axes>"
            ],
            "image/png": "[encoded data removed]"
          },
          "metadata": {}
        },
        {
          "output_type": "stream",
          "name": "stdout",
          "text": [
            "Predicted Label: [7]\n",
            "Correct prediction!\n",
            "Test Set Accuracy: 84.88%\n"
          ]
        }
      ]
    },
    {
      "cell_type": "code",
      "source": [],
      "metadata": {
        "id": "EJwsaAT0wSfQ"
      },
      "execution_count": null,
      "outputs": []
    }
  ]
}
