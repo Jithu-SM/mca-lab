{
  "cells": [
    {
      "cell_type": "markdown",
      "source": [
        "1. Create a matrix U of shape (m, n) with input values where m and n are input positive integers"
      ],
      "metadata": {
        "id": "pkDlKk5ob4FR"
      },
      "id": "pkDlKk5ob4FR"
    },
    {
      "cell_type": "code",
      "execution_count": null,
      "id": "41cffe45-e7f5-4514-b5de-d6a04d9f40d3",
      "metadata": {
        "id": "41cffe45-e7f5-4514-b5de-d6a04d9f40d3",
        "outputId": "9a37dc73-7a60-4dc9-9914-287fd4c1b05c"
      },
      "outputs": [
        {
          "name": "stdin",
          "output_type": "stream",
          "text": [
            "Enter number of rows (m):  2\n",
            "Enter number of columns (n):  2\n",
            "Enter 2 elements for row 1, separated by spaces:  1 2\n",
            "Enter 2 elements for row 2, separated by spaces:  3 4\n"
          ]
        },
        {
          "name": "stdout",
          "output_type": "stream",
          "text": [
            "[[1. 2.]\n",
            " [3. 4.]]\n"
          ]
        }
      ],
      "source": [
        "import numpy as np\n",
        "\n",
        "m = int(input(\"Enter number of rows (m): \"))\n",
        "n = int(input(\"Enter number of columns (n): \"))\n",
        "\n",
        "u = []\n",
        "for i in range(m):\n",
        "    row = input(f\"Enter {n} elements for row {i+1}, separated by spaces: \")\n",
        "    row_elements = list(map(float, row.strip().split()))\n",
        "    u.append(row_elements)\n",
        "\n",
        "U = np.array(u)\n",
        "print(U)\n"
      ]
    },
    {
      "cell_type": "markdown",
      "source": [
        "2. Compute X as the transpose of U ."
      ],
      "metadata": {
        "id": "8QSCHagocAom"
      },
      "id": "8QSCHagocAom"
    },
    {
      "cell_type": "code",
      "execution_count": null,
      "id": "d5a791c6-7d4b-444a-8551-103766e1bd9f",
      "metadata": {
        "id": "d5a791c6-7d4b-444a-8551-103766e1bd9f",
        "outputId": "0140b04c-cc66-46bc-e573-f043ed06bf44"
      },
      "outputs": [
        {
          "name": "stdout",
          "output_type": "stream",
          "text": [
            "transpose of u is:\n",
            "[[1. 3.]\n",
            " [2. 4.]]\n"
          ]
        }
      ],
      "source": [
        "print(\"transpose of u is:\")\n",
        "X=U.T\n",
        "print(X)\n"
      ]
    },
    {
      "cell_type": "markdown",
      "source": [
        "3. Create a matrix Y of shape (1, m) with random values ∈ [0, 1]\n"
      ],
      "metadata": {
        "id": "MzXLYRS-cFoF"
      },
      "id": "MzXLYRS-cFoF"
    },
    {
      "cell_type": "code",
      "execution_count": null,
      "id": "f9c92b46-8c5f-4b0e-aee4-d27d4c43a6de",
      "metadata": {
        "id": "f9c92b46-8c5f-4b0e-aee4-d27d4c43a6de",
        "outputId": "55f22829-4ff8-452e-af07-027a6a73e09e"
      },
      "outputs": [
        {
          "name": "stdout",
          "output_type": "stream",
          "text": [
            "[[0.93419463 0.26522306]]\n"
          ]
        }
      ],
      "source": [
        "Y = np.random.rand(1, m)\n",
        "print(Y)"
      ]
    },
    {
      "cell_type": "markdown",
      "source": [
        "4. Create a matrix W 1 of shape (p, n) with random values ∈ [0, 1] where p is an input\n"
      ],
      "metadata": {
        "id": "GWTx6o6xcJ1t"
      },
      "id": "GWTx6o6xcJ1t"
    },
    {
      "cell_type": "code",
      "execution_count": null,
      "id": "3c3d1622-4bfa-4434-a489-1a36e37af053",
      "metadata": {
        "id": "3c3d1622-4bfa-4434-a489-1a36e37af053",
        "outputId": "c398f026-f345-4cb7-a624-e30dc6805fc1"
      },
      "outputs": [
        {
          "name": "stdin",
          "output_type": "stream",
          "text": [
            "enter p value: 2\n"
          ]
        },
        {
          "name": "stdout",
          "output_type": "stream",
          "text": [
            "[[0.1101886  0.01550452]\n",
            " [0.87842457 0.99378785]]\n"
          ]
        }
      ],
      "source": [
        "p=int(input(\"enter p value:\"))\n",
        "W1=np.random.rand(p,n)\n",
        "print(W1)"
      ]
    },
    {
      "cell_type": "markdown",
      "source": [
        "5. Create a vector B1 of shape (p, 1) with random values ∈ [0, 1].\n"
      ],
      "metadata": {
        "id": "vNU2YqU9cQYO"
      },
      "id": "vNU2YqU9cQYO"
    },
    {
      "cell_type": "code",
      "execution_count": null,
      "id": "da14d020-7102-4da1-9441-bb54059d355e",
      "metadata": {
        "id": "da14d020-7102-4da1-9441-bb54059d355e",
        "outputId": "38afeb37-588f-4a85-c8de-3cf39a8ee054"
      },
      "outputs": [
        {
          "name": "stdout",
          "output_type": "stream",
          "text": [
            "[[0.75566062]\n",
            " [0.95904694]]\n"
          ]
        }
      ],
      "source": [
        "B1=np.random.rand(p,1)\n",
        "print(B1)\n"
      ]
    },
    {
      "cell_type": "markdown",
      "source": [
        "6. Create a vector W 2 of shape (1, p) with all zeros\n"
      ],
      "metadata": {
        "id": "hxE0AX-7cT0k"
      },
      "id": "hxE0AX-7cT0k"
    },
    {
      "cell_type": "code",
      "execution_count": null,
      "id": "cae5de51-dadf-4892-b9c5-bcdb58058cb7",
      "metadata": {
        "id": "cae5de51-dadf-4892-b9c5-bcdb58058cb7",
        "outputId": "4781eaaf-efe9-41e3-a9d5-b079d223f60b"
      },
      "outputs": [
        {
          "name": "stdout",
          "output_type": "stream",
          "text": [
            "[[0. 0.]]\n"
          ]
        }
      ],
      "source": [
        "W2=np.zeros((1,p))\n",
        "print(W2)"
      ]
    },
    {
      "cell_type": "markdown",
      "source": [
        "7. Create a scalar B2 with a random value ∈ [0, 1].\n"
      ],
      "metadata": {
        "id": "72lYQPHicXs8"
      },
      "id": "72lYQPHicXs8"
    },
    {
      "cell_type": "code",
      "execution_count": null,
      "id": "ea70ebb8-70ef-4aa6-81c1-c72d10dbf8a8",
      "metadata": {
        "id": "ea70ebb8-70ef-4aa6-81c1-c72d10dbf8a8",
        "outputId": "287546b6-805e-4b35-f40a-97c5110f0e49"
      },
      "outputs": [
        {
          "name": "stdout",
          "output_type": "stream",
          "text": [
            "0.8918397872420092\n"
          ]
        }
      ],
      "source": [
        "B2=np.random.rand()\n",
        "print(B2)"
      ]
    },
    {
      "cell_type": "markdown",
      "source": [
        "\n",
        "8. Perform the following computations iteratively 15 times:\n",
        "\n",
        "(a) Z1 = W1 · X + B1 (Matrix Multiplication)\n",
        "\n",
        "(b) A1 = f(Z1) where f is a function that returns 0 for negative values and the input value itself otherwise.\n",
        "\n",
        "(c) Z2 = W2 · A1 + B2\n",
        "\n",
        "(d) A2 = g(Z2) where g(x) = 1 / (1 + e^(−x))\n",
        "\n",
        "(e) L = ½ · (A2 − Y)²\n",
        "\n",
        "(f) dA2 = A2 − Y\n",
        "\n",
        "(g) dZ2 = dA2 ◦ g'(Z2) where g'(x) = g(x) · (1 − g(x)) and ◦ indicates element-wise multiplication\n",
        "\n",
        "(h) dA1 = W2ᵀ · dZ2\n",
        "\n",
        "(i) dZ1 = dA1 ◦ f'(Z1) where f'(x) returns 1 for positive values and 0 otherwise\n",
        "\n",
        "(j) dW1 = (1/m) · dZ1 · Xᵀ\n",
        "\n",
        "(k) dB1 = (1/m) · ΣdZ1 (sum along the columns)\n",
        "\n",
        "(l) dW2 = (1/m) · dZ2 · A1ᵀ\n",
        "\n",
        "(m) dB2 = (1/m) · ΣdZ2 (sum along the columns)\n",
        "\n",
        "(n) Update and print W1, B1, W2, and B2 for α = 0.01:\n",
        "\n",
        "* i) W1 = W1 − α · dW1\n",
        "* ii) B1 = B1 − α · dB1\n",
        "* iii) W2 = W2 − α · dW2\n",
        "* iv) B2 = B2 − α · dB2\n"
      ],
      "metadata": {
        "id": "6FZ_4eF-cmSe"
      },
      "id": "6FZ_4eF-cmSe"
    },
    {
      "cell_type": "code",
      "execution_count": null,
      "id": "3dffe5f8-5892-4ceb-bf89-432965c77b7b",
      "metadata": {
        "id": "3dffe5f8-5892-4ceb-bf89-432965c77b7b",
        "outputId": "cd251bdc-73e1-4bde-f617-821e19f46578"
      },
      "outputs": [
        {
          "name": "stdout",
          "output_type": "stream",
          "text": [
            "Iteration 1:\n",
            "W1:\n",
            " [[0.11022705 0.01554946]\n",
            " [0.87874421 0.99416136]]\n",
            "B1:\n",
            " [[0.75566711]\n",
            " [0.95910082]]\n",
            "W2: [[-0.00458172 -0.03874977]]\n",
            "B2: 0.8887463206564279\n",
            "Loss: 0.05289555064760101\n",
            "----------------------------------------\n",
            "Iteration 2:\n",
            "W1:\n",
            " [[0.11023172 0.01555482]\n",
            " [0.8787837  0.99420672]]\n",
            "B1:\n",
            " [[0.7556678 ]\n",
            " [0.95910669]]\n",
            "W2: [[-0.00482665 -0.04095404]]\n",
            "B2: 0.8885949345869967\n",
            "Loss: 0.05239097088872216\n",
            "----------------------------------------\n",
            "Iteration 3:\n",
            "W1:\n",
            " [[0.11023659 0.0155604 ]\n",
            " [0.87882501 0.994254  ]]\n",
            "B1:\n",
            " [[0.75566851]\n",
            " [0.95911266]]\n",
            "W2: [[-0.0050661  -0.04312849]]\n",
            "B2: 0.8884489795582825\n",
            "Loss: 0.05189980163895261\n",
            "----------------------------------------\n",
            "Iteration 4:\n",
            "W1:\n",
            " [[0.11024164 0.01556617]\n",
            " [0.87886806 0.99430312]]\n",
            "B1:\n",
            " [[0.75566922]\n",
            " [0.95911872]]\n",
            "W2: [[-0.00530001 -0.04527265]]\n",
            "B2: 0.8883085038779446\n",
            "Loss: 0.051422085498038575\n",
            "----------------------------------------\n",
            "Iteration 5:\n",
            "W1:\n",
            " [[0.11024688 0.01557212]\n",
            " [0.87891277 0.99435393]]\n",
            "B1:\n",
            " [[0.75566994]\n",
            " [0.95912483]]\n",
            "W2: [[-0.00552833 -0.0473861 ]]\n",
            "B2: 0.8881735485404004\n",
            "Loss: 0.05095783386118323\n",
            "----------------------------------------\n",
            "Iteration 6:\n",
            "W1:\n",
            " [[0.11025228 0.01557823]\n",
            " [0.87895905 0.99440635]]\n",
            "B1:\n",
            " [[0.75567065]\n",
            " [0.95913096]]\n",
            "W2: [[-0.00575102 -0.04946846]]\n",
            "B2: 0.8880441473143041\n",
            "Loss: 0.05050702811083893\n",
            "----------------------------------------\n",
            "Iteration 7:\n",
            "W1:\n",
            " [[0.11025783 0.0155845 ]\n",
            " [0.87900682 0.99446024]]\n",
            "B1:\n",
            " [[0.75567136]\n",
            " [0.95913709]]\n",
            "W2: [[-0.00596802 -0.05151941]]\n",
            "B2: 0.8879203268583987\n",
            "Loss: 0.050069620938976114\n",
            "----------------------------------------\n",
            "Iteration 8:\n",
            "W1:\n",
            " [[0.11026353 0.0155909 ]\n",
            " [0.879056   0.99451551]]\n",
            "B1:\n",
            " [[0.75567207]\n",
            " [0.95914318]]\n",
            "W2: [[-0.00617932 -0.05353866]]\n",
            "B2: 0.8878021068636406\n",
            "Loss: 0.04964553778076786\n",
            "----------------------------------------\n",
            "Iteration 9:\n",
            "W1:\n",
            " [[0.11026936 0.01559742]\n",
            " [0.8791065  0.99457204]]\n",
            "B1:\n",
            " [[0.75567276]\n",
            " [0.95914921]]\n",
            "W2: [[-0.00638489 -0.05552598]]\n",
            "B2: 0.8876895002193669\n",
            "Loss: 0.04923467834053147\n",
            "----------------------------------------\n",
            "Iteration 10:\n",
            "W1:\n",
            " [[0.11027531 0.01560406]\n",
            " [0.87915825 0.99462973]]\n",
            "B1:\n",
            " [[0.75567345]\n",
            " [0.95915515]]\n",
            "W2: [[-0.00658471 -0.05748118]]\n",
            "B2: 0.8875825132011869\n",
            "Loss: 0.04883691819097506\n",
            "----------------------------------------\n",
            "Iteration 11:\n",
            "W1:\n",
            " [[0.11028137 0.01561079]\n",
            " [0.87921116 0.99468847]]\n",
            "B1:\n",
            " [[0.75567412]\n",
            " [0.95916098]]\n",
            "W2: [[-0.00677877 -0.05940413]]\n",
            "B2: 0.8874811456782224\n",
            "Loss: 0.04845211042727769\n",
            "----------------------------------------\n",
            "Iteration 12:\n",
            "W1:\n",
            " [[0.11028753 0.0156176 ]\n",
            " [0.87926516 0.99474816]]\n",
            "B1:\n",
            " [[0.75567476]\n",
            " [0.95916666]]\n",
            "W2: [[-0.00696707 -0.06129472]]\n",
            "B2: 0.8873853913373022\n",
            "Loss: 0.04808008735825543\n",
            "----------------------------------------\n",
            "Iteration 13:\n",
            "W1:\n",
            " [[0.11029378 0.01562448]\n",
            " [0.87932018 0.9948087 ]]\n",
            "B1:\n",
            " [[0.75567539]\n",
            " [0.95917219]]\n",
            "W2: [[-0.00714961 -0.06315289]]\n",
            "B2: 0.8872952379217222\n",
            "Loss: 0.04772066221779419\n",
            "----------------------------------------\n",
            "Iteration 14:\n",
            "W1:\n",
            " [[0.11030012 0.01563142]\n",
            " [0.87937613 0.99487   ]]\n",
            "B1:\n",
            " [[0.755676  ]\n",
            " [0.95917753]]\n",
            "W2: [[-0.0073264  -0.06497864]]\n",
            "B2: 0.8872106674822224\n",
            "Loss: 0.04737363088082816\n",
            "----------------------------------------\n",
            "Iteration 15:\n",
            "W1:\n",
            " [[0.11030652 0.0156384 ]\n",
            " [0.87943296 0.99493195]]\n",
            "B1:\n",
            " [[0.75567658]\n",
            " [0.95918266]]\n",
            "W2: [[-0.00749746 -0.06677198]]\n",
            "B2: 0.887131656637893\n",
            "Loss: 0.04703877356937189\n",
            "----------------------------------------\n"
          ]
        }
      ],
      "source": [
        "\n",
        "\n",
        "# Activation functions\n",
        "def f(x):  # ReLU\n",
        "    return np.maximum(0, x)\n",
        "\n",
        "def fprime(x):\n",
        "    return (x > 0).astype(float)\n",
        "\n",
        "def g(x):  # Sigmoid\n",
        "    return 1 / (1 + np.exp(-x))\n",
        "\n",
        "def gprime(x):\n",
        "    s = g(x)\n",
        "    return s * (1 - s)\n",
        "\n",
        "# Learning rate\n",
        "alpha = 0.01\n",
        "for iteration in range(15):\n",
        "    # (a) Z1 = W1 · X + B1\n",
        "    Z1 = W1 @ X + B1  # shape (p, m)\n",
        "\n",
        "    # (b) A1 = f(Z1)\n",
        "    A1 = f(Z1)  # ReLU output, shape (p, m)\n",
        "\n",
        "    # (c) Z2 = W2 · A1 + B2\n",
        "    Z2 = W2 @ A1 + B2  # shape (1, m)\n",
        "\n",
        "    # (d) A2 = g(Z2)\n",
        "    A2 = g(Z2)  # sigmoid output, shape (1, m)\n",
        "\n",
        "    # (e) L = 1/2 * (A2 - Y)^2 (Loss per sample)\n",
        "    L = 0.5 * np.square(A2 - Y)  # shape (1, m)\n",
        "\n",
        "    # (f) dA2 = A2 - Y\n",
        "    dA2 = A2 - Y  # shape (1, m)\n",
        "\n",
        "    # (g) dZ2 = dA2 ◦ gprime(Z2)\n",
        "    dZ2 = dA2 * gprime(Z2)  # element-wise multiplication, shape (1, m)\n",
        "\n",
        "    # (h) dA1 = W2.T · dZ2\n",
        "    dA1 = W2.T @ dZ2  # shape (p, m)\n",
        "\n",
        "    # (i) dZ1 = dA1 ◦ fprime(Z1)\n",
        "    dZ1 = dA1 * fprime(Z1)  # shape (p, m)\n",
        "\n",
        "    # (j) dW1 = 1/m · dZ1 · X.T\n",
        "    dW1 = (1 / m) * dZ1 @ X.T  # shape (p, n)\n",
        "\n",
        "    # (k) dB1 = 1/m * sum of dZ1 along columns\n",
        "    dB1 = (1 / m) * np.sum(dZ1, axis=1, keepdims=True)  # shape (p, 1)\n",
        "\n",
        "    # (l) dW2 = 1/m · dZ2 · A1.T\n",
        "    dW2 = (1 / m) * dZ2 @ A1.T  # shape (1, p)\n",
        "\n",
        "    # (m) dB2 = 1/m * sum of dZ2 along columns\n",
        "    dB2 = (1 / m) * np.sum(dZ2, axis=1, keepdims=True)  # shape (1, 1), scalar but kept as array\n",
        "\n",
        "    W1 -= alpha * dW1\n",
        "    B1 -= alpha * dB1\n",
        "    W2 -= alpha * dW2\n",
        "    B2 -= alpha * dB2.item()  # Convert to scalar\n",
        "\n",
        "    # Print updated parameters\n",
        "    print(f\"Iteration {iteration + 1}:\")\n",
        "    print(\"W1:\\n\", W1)\n",
        "    print(\"B1:\\n\", B1)\n",
        "    print(\"W2:\", W2)\n",
        "    print(\"B2:\", B2)\n",
        "    print(\"Loss:\", np.mean(L))\n",
        "    print(\"-\" * 40)"
      ]
    }
  ],
  "metadata": {
    "kernelspec": {
      "display_name": "Python 3 (ipykernel)",
      "language": "python",
      "name": "python3"
    },
    "language_info": {
      "codemirror_mode": {
        "name": "ipython",
        "version": 3
      },
      "file_extension": ".py",
      "mimetype": "text/x-python",
      "name": "python",
      "nbconvert_exporter": "python",
      "pygments_lexer": "ipython3",
      "version": "3.13.5"
    },
    "colab": {
      "provenance": []
    }
  },
  "nbformat": 4,
  "nbformat_minor": 5
}